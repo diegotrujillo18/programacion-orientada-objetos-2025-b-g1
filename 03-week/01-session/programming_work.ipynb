{
  "nbformat": 4,
  "nbformat_minor": 0,
  "metadata": {
    "colab": {
      "provenance": []
    },
    "kernelspec": {
      "name": "python3",
      "display_name": "Python 3"
    },
    "language_info": {
      "name": "python"
    }
  },
  "cells": [
    {
      "cell_type": "code",
      "source": [
        "class CuentaBancaria:\n",
        "    def __init__(self, titular: str, saldo_inicial: float = 0.0):\n",
        "        if saldo_inicial < 0:\n",
        "            raise ValueError(\"El saldo inicial no puede ser negativo\")\n",
        "        self.titular = titular\n",
        "        self._saldo = float(saldo_inicial)\n",
        "        self.historial: list[str] = []\n",
        "\n",
        "\n",
        "    @property\n",
        "    def saldo(self) -> float:\n",
        "        return self._saldo\n",
        "\n",
        "    def depositar(self, monto: float) -> None:\n",
        "        if monto <= 0:\n",
        "            raise ValueError(\"El monto del depósito debe ser positivo\")\n",
        "        self._saldo += monto\n",
        "        self.historial.append(f\"Depósito: +{monto:.2f}\")\n",
        "\n",
        "\n",
        "    def retirar(self, monto: float) -> None:\n",
        "        if monto <= 0:\n",
        "            raise ValueError(\"El monto del retiro debe ser positivo\")\n",
        "        if monto > self._saldo:\n",
        "            raise ValueError(\"Fondos insuficientes\")\n",
        "        self._saldo -= monto\n",
        "        self.historial.append(f\"Retiro de {monto:.2f}\")\n",
        "\n",
        "\n",
        "    def __repr__(self) -> str:\n",
        "        return f\"CuentaBancaria(titular='{self.titular}', saldo={self._saldo:.2f})\"\n",
        "\n"
      ],
      "metadata": {
        "id": "Re98FZxUYoK-"
      },
      "execution_count": 8,
      "outputs": []
    },
    {
      "cell_type": "code",
      "metadata": {
        "colab": {
          "base_uri": "https://localhost:8080/"
        },
        "id": "ce962bb2",
        "outputId": "45915503-69c3-4bb7-bbec-4b392000a885"
      },
      "source": [
        "# Crear una instancia de la clase CuentaBancaria\n",
        "mi_cuenta = CuentaBancaria(titular=\"Juan Perez\", saldo_inicial=1000.0)\n",
        "\n",
        "# Mostrar la representación de la cuenta (usando el método __repr__)\n",
        "print(mi_cuenta)\n",
        "\n",
        "# Realizar un depósito\n",
        "mi_cuenta.depositar(500.0)\n",
        "print(f\"Saldo después del depósito: {mi_cuenta.saldo:.2f}\")\n",
        "\n",
        "# Realizar un retiro\n",
        "mi_cuenta.retirar(200.0)\n",
        "print(f\"Saldo después del retiro: {mi_cuenta.saldo:.2f}\")\n",
        "\n",
        "# Mostrar el historial de transacciones\n",
        "print(\"\\nHistorial de transacciones:\")\n",
        "for transaccion in mi_cuenta.historial:\n",
        "    print(transaccion)"
      ],
      "execution_count": 9,
      "outputs": [
        {
          "output_type": "stream",
          "name": "stdout",
          "text": [
            "CuentaBancaria(titular='Juan Perez', saldo=1000.00)\n",
            "Saldo después del depósito: 1500.00\n",
            "Saldo después del retiro: 1300.00\n",
            "\n",
            "Historial de transacciones:\n",
            "Depósito: +500.00\n",
            "Retiro de 200.00\n"
          ]
        }
      ]
    },
    {
      "cell_type": "markdown",
      "source": [
        "De este codigo logre entender que era una simulacion sobre una cuenta bancaria, pude comprender temas como lo son el Encapsulamiento, propiedades, validaciones y la trazabilidad en el ejercicio. Pude evidenciar que el codigo solo estaba definido y no estaba implementado, lo que hace que el ejercicio no se puede ejecutar."
      ],
      "metadata": {
        "id": "qpj0jKPDcMV9"
      }
    }
  ]
}