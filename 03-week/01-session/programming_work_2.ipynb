{
  "nbformat": 4,
  "nbformat_minor": 0,
  "metadata": {
    "colab": {
      "provenance": []
    },
    "kernelspec": {
      "name": "python3",
      "display_name": "Python 3"
    },
    "language_info": {
      "name": "python"
    }
  },
  "cells": [
    {
      "cell_type": "code",
      "execution_count": 2,
      "metadata": {
        "colab": {
          "base_uri": "https://localhost:8080/"
        },
        "id": "dySruuIPhgWz",
        "outputId": "5b7bf38f-8249-4474-8871-09c22542d1ec"
      },
      "outputs": [
        {
          "output_type": "stream",
          "name": "stdout",
          "text": [
            "Área total (Ejemplo 1): 62.27433388230814\n",
            "\n",
            "--- Nuevo Ejemplo ---\n",
            "Área total (Ejemplo 2): 151.60839981032188\n"
          ]
        }
      ],
      "source": [
        "from abc import ABC, abstractmethod\n",
        "import math\n",
        "\n",
        "# Clase abstracta\n",
        "# ABSTRACCIÓN\n",
        "class Figura(ABC):\n",
        "    @abstractmethod\n",
        "    def area(self):\n",
        "        pass\n",
        "\n",
        "# Clase Rectangulo\n",
        "# HERENCIA\n",
        "class Rectangulo(Figura):\n",
        "    def __init__(self, ancho, alto):\n",
        "        self.ancho = ancho\n",
        "        self.alto = alto\n",
        "\n",
        "    def area(self):\n",
        "        return self.ancho * self.alto\n",
        "\n",
        "# Clase Circulo\n",
        "# HERENCIA\n",
        "class Circulo(Figura):\n",
        "    def __init__(self, radio):\n",
        "        self.radio = radio\n",
        "\n",
        "    def area(self):\n",
        "        return math.pi * (self.radio ** 2)\n",
        "\n",
        "# Función para calcular el área total\n",
        "# POLIMORFISMO\n",
        "def calcular_area_total(figuras: list):\n",
        "    total = 0\n",
        "    for figura in figuras:\n",
        "        total += figura.area()\n",
        "    return total\n",
        "\n",
        "# Ejemplo de uso 1\n",
        "figuras = [\n",
        "    Rectangulo(4, 5),\n",
        "    Circulo(3),\n",
        "    Rectangulo(2, 7)\n",
        "]\n",
        "\n",
        "print(f\"Área total (Ejemplo 1): {calcular_area_total(figuras)}\")\n",
        "\n",
        "\n",
        "# Ejemplo de uso 2 (Hecho por IA)\n",
        "print(\"\\n--- Nuevo Ejemplo ---\")\n",
        "otras_figuras = [\n",
        "    Circulo(5),\n",
        "    Rectangulo(10, 3),\n",
        "    Rectangulo(6, 6),\n",
        "    Circulo(1.5)\n",
        "]\n",
        "\n",
        "print(f\"Área total (Ejemplo 2): {calcular_area_total(otras_figuras)}\")"
      ]
    },
    {
      "cell_type": "markdown",
      "source": [
        "Este código me enseña cómo usar abstracción, herencia y polimorfismo para crear un diseño limpio, organizado y fácil de ampliar en Python. Esto, tambien me enseña a no dependender de las condicionales y abrir mi mente mas alla."
      ],
      "metadata": {
        "id": "32GTnShzoEKk"
      }
    }
  ]
}