{
  "nbformat": 4,
  "nbformat_minor": 0,
  "metadata": {
    "colab": {
      "provenance": []
    },
    "kernelspec": {
      "name": "python3",
      "display_name": "Python 3"
    },
    "language_info": {
      "name": "python"
    }
  },
  "cells": [
    {
      "cell_type": "code",
      "execution_count": 1,
      "metadata": {
        "colab": {
          "base_uri": "https://localhost:8080/"
        },
        "id": "VE7WGEvLgdXy",
        "outputId": "2033e969-30d0-4efd-aecc-e354bed48aed"
      },
      "outputs": [
        {
          "output_type": "stream",
          "name": "stdout",
          "text": [
            "[EMAIL] Preparado: Oferta para cliente@email.com\n",
            "[EMAIL] Enviado a cliente@email.com: Aprovecha nuestro 2x1\n",
            "[SMS] Preparado para 3001234567\n",
            "[SMS] Enviado a 3001234567: Tu código es 98765\n",
            "[PUSH] Preparado para Dispositivo_01\n",
            "[PUSH] Notificación enviada: Tienes una nueva alerta\n",
            "\n",
            "Historial de envíos:\n",
            "- [EMAIL] Enviado a cliente@email.com: Aprovecha nuestro 2x1\n",
            "- [SMS] Enviado a 3001234567: Tu código es 98765\n",
            "- [PUSH] Notificación enviada: Tienes una nueva alerta\n"
          ]
        }
      ],
      "source": [
        "from abc import ABC, abstractmethod\n",
        "\n",
        "# Clase base\n",
        "class Notificacion(ABC):\n",
        "    @abstractmethod\n",
        "    def preparar(self):\n",
        "        pass\n",
        "\n",
        "    @abstractmethod\n",
        "    def enviar(self):\n",
        "        pass\n",
        "\n",
        "\n",
        "# Subclases\n",
        "class Email(Notificacion):\n",
        "    def __init__(self, asunto, destinatario, cuerpo):\n",
        "        self.asunto = asunto\n",
        "        self.destinatario = destinatario\n",
        "        self.cuerpo = cuerpo\n",
        "\n",
        "    def preparar(self):\n",
        "        return f\"[EMAIL] Preparado: {self.asunto} para {self.destinatario}\"\n",
        "\n",
        "    def enviar(self):\n",
        "        return f\"[EMAIL] Enviado a {self.destinatario}: {self.cuerpo}\"\n",
        "\n",
        "\n",
        "class SMS(Notificacion):\n",
        "    def __init__(self, numero, mensaje):\n",
        "        self.numero = numero\n",
        "        self.mensaje = mensaje\n",
        "\n",
        "    def preparar(self):\n",
        "        if len(self.mensaje) > 160:\n",
        "            return \"[SMS] Error: mensaje supera 160 caracteres\"\n",
        "        return f\"[SMS] Preparado para {self.numero}\"\n",
        "\n",
        "    def enviar(self):\n",
        "        return f\"[SMS] Enviado a {self.numero}: {self.mensaje}\"\n",
        "\n",
        "\n",
        "class Push(Notificacion):\n",
        "    def __init__(self, dispositivo, contenido):\n",
        "        self.dispositivo = dispositivo\n",
        "        self.contenido = contenido\n",
        "\n",
        "    def preparar(self):\n",
        "        return f\"[PUSH] Preparado para {self.dispositivo}\"\n",
        "\n",
        "    def enviar(self):\n",
        "        return f\"[PUSH] Notificación enviada: {self.contenido}\"\n",
        "\n",
        "\n",
        "# Gestor de notificaciones\n",
        "class GestorNotificaciones:\n",
        "    def __init__(self):\n",
        "        self.historial = []\n",
        "\n",
        "    def procesar(self, notificaciones):\n",
        "        for n in notificaciones:\n",
        "            print(n.preparar())\n",
        "            resultado = n.enviar()\n",
        "            self.historial.append(resultado)\n",
        "            print(resultado)\n",
        "\n",
        "\n",
        "# Ejemplo de uso\n",
        "if __name__ == \"__main__\":\n",
        "    lista = [\n",
        "        Email(\"Oferta\", \"cliente@email.com\", \"Aprovecha nuestro 2x1\"),\n",
        "        SMS(\"3001234567\", \"Tu código es 98765\"),\n",
        "        Push(\"Dispositivo_01\", \"Tienes una nueva alerta\"),\n",
        "    ]\n",
        "\n",
        "    gestor = GestorNotificaciones()\n",
        "    gestor.procesar(lista)\n",
        "\n",
        "    print(\"\\nHistorial de envíos:\")\n",
        "    for h in gestor.historial:\n",
        "        print(\"-\", h)\n"
      ]
    },
    {
      "cell_type": "markdown",
      "source": [
        "Ese código te enseña que, gracias al polimorfismo, puedes manejar distintos tipos de notificaciones (Email, SMS, Push) de manera unificada: aunque cada clase tiene atributos y reglas propias, todas comparten la misma interfaz (preparar y enviar).\n",
        "La enseñanza clave es que el gestor no necesita saber cómo funciona cada tipo de notificación, solo necesita saber que todas cumplen el mismo objetivo, lo que hace el sistema más flexible y fácil de ampliar."
      ],
      "metadata": {
        "id": "G8A4G_w5ipL1"
      }
    }
  ]
}