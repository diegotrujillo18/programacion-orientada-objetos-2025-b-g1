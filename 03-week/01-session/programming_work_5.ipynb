{
  "nbformat": 4,
  "nbformat_minor": 0,
  "metadata": {
    "colab": {
      "provenance": []
    },
    "kernelspec": {
      "name": "python3",
      "display_name": "Python 3"
    },
    "language_info": {
      "name": "python"
    }
  },
  "cells": [
    {
      "cell_type": "code",
      "execution_count": 1,
      "metadata": {
        "colab": {
          "base_uri": "https://localhost:8080/"
        },
        "id": "HyXdpejJdyQY",
        "outputId": "24559cfe-4fc9-4e3e-fe80-b59ab5e38eef"
      },
      "outputs": [
        {
          "output_type": "stream",
          "name": "stdout",
          "text": [
            "Lectura sensor de temperatura: 25.65 °C\n",
            "Lectura sensor de humedad: 35.56 %\n"
          ]
        }
      ],
      "source": [
        "from abc import ABC, abstractmethod\n",
        "import random\n",
        "\n",
        "# Clase abstracta Sensor\n",
        "class Sensor(ABC):\n",
        "    @abstractmethod\n",
        "    def leer(self):\n",
        "        \"\"\"Devuelve un valor numérico simulado\"\"\"\n",
        "        pass\n",
        "\n",
        "    @classmethod\n",
        "    @abstractmethod\n",
        "    def from_config(cls, cfg):\n",
        "        \"\"\"Crea un objeto de la clase concreta a partir de un diccionario de configuración\"\"\"\n",
        "        pass\n",
        "\n",
        "\n",
        "# Clase concreta: Sensor de Temperatura\n",
        "class SensorTemperatura(Sensor):\n",
        "    def __init__(self, offset):\n",
        "        self.offset = offset\n",
        "\n",
        "    def leer(self):\n",
        "        valor = random.uniform(20, 30) + self.offset\n",
        "        return round(valor, 2)\n",
        "\n",
        "    @classmethod\n",
        "    def from_config(cls, cfg):\n",
        "        return cls(cfg.get(\"offset\", 0))\n",
        "\n",
        "\n",
        "# Clase concreta: Sensor de Humedad\n",
        "class SensorHumedad(Sensor):\n",
        "    def __init__(self, escala):\n",
        "        self.escala = escala\n",
        "\n",
        "    def leer(self):\n",
        "        valor = random.uniform(40, 70) * self.escala\n",
        "        return round(valor, 2)\n",
        "\n",
        "    @classmethod\n",
        "    def from_config(cls, cfg):\n",
        "        return cls(cfg.get(\"escala\", 1))\n",
        "\n",
        "\n",
        "# Función de fábrica\n",
        "def crear_sensor(cfg):\n",
        "    tipo = cfg.get(\"tipo\")\n",
        "    if tipo == \"temperatura\":\n",
        "        return SensorTemperatura.from_config(cfg)\n",
        "    elif tipo == \"humedad\":\n",
        "        return SensorHumedad.from_config(cfg)\n",
        "    else:\n",
        "        raise ValueError(f\"Tipo de sensor no soportado: {tipo}\")\n",
        "\n",
        "\n",
        "# ---------------- EJEMPLO DE USO ----------------\n",
        "if __name__ == \"__main__\":\n",
        "    cfg_temp = {\"tipo\": \"temperatura\", \"offset\": 1.5}\n",
        "    cfg_hum = {\"tipo\": \"humedad\", \"escala\": 0.8}\n",
        "\n",
        "    sensor1 = crear_sensor(cfg_temp)\n",
        "    sensor2 = crear_sensor(cfg_hum)\n",
        "\n",
        "    print(\"Lectura sensor de temperatura:\", sensor1.leer(), \"°C\")\n",
        "    print(\"Lectura sensor de humedad:\", sensor2.leer(), \"%\")\n"
      ]
    },
    {
      "cell_type": "markdown",
      "source": [
        "Este ejercicio nos enseña cómo aplicar el polimorfismo y las clases abstractas para crear sistemas flexibles. Aprendemos a diseñar una estructura donde diferentes tipos de sensores comparten una interfaz común, lo que facilita su uso e integración. También nos muestra cómo usar métodos de clase para construir objetos a partir de configuraciones, lo cual es útil en proyectos reales donde los parámetros vienen de archivos o bases de datos. En resumen, refuerza la importancia de la abstracción y la reutilización del código en la programación orientada a objetos."
      ],
      "metadata": {
        "id": "nr6X_PQMgMX_"
      }
    }
  ]
}