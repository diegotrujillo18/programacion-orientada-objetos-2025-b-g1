{
  "nbformat": 4,
  "nbformat_minor": 0,
  "metadata": {
    "colab": {
      "provenance": []
    },
    "kernelspec": {
      "name": "python3",
      "display_name": "Python 3"
    },
    "language_info": {
      "name": "python"
    }
  },
  "cells": [
    {
      "cell_type": "code",
      "execution_count": 1,
      "metadata": {
        "colab": {
          "base_uri": "https://localhost:8080/"
        },
        "id": "nFF18fqmABzu",
        "outputId": "de6ef89c-81a1-47ff-a903-0d5092225c81"
      },
      "outputs": [
        {
          "output_type": "stream",
          "name": "stdout",
          "text": [
            "Carrito 1:\n",
            "Manzana x4 - $0.50 c/u\n",
            "Pan x2 - $1.20 c/u\n",
            "TOTAL: $4.40\n",
            "Número de ítems distintos: 2\n",
            "\n",
            "¿Hay Pan en el carrito? True\n",
            "\n",
            "Iterando sobre ítems del carrito:\n",
            "- Manzana: $0.5 x 4\n",
            "- Pan: $1.2 x 2\n",
            "\n",
            "Carrito combinado:\n",
            "Manzana x4 - $0.50 c/u\n",
            "Pan x3 - $1.20 c/u\n",
            "Leche x1 - $2.50 c/u\n",
            "TOTAL: $8.10\n"
          ]
        }
      ],
      "source": [
        "# Clase Item\n",
        "class Item:\n",
        "    def __init__(self, nombre, precio, cantidad=1):\n",
        "        self.nombre = nombre\n",
        "        self.precio = precio\n",
        "        self.cantidad = cantidad\n",
        "\n",
        "    def __str__(self):\n",
        "        return f\"{self.nombre} x{self.cantidad} - ${self.precio:.2f} c/u\"\n",
        "\n",
        "    def subtotal(self):\n",
        "        return self.precio * self.cantidad\n",
        "\n",
        "\n",
        "# Clase Carrito\n",
        "class Carrito:\n",
        "    def __init__(self):\n",
        "        self.items = {}  # Usaremos un diccionario para fusionar ítems por nombre\n",
        "\n",
        "    # Agregar item\n",
        "    def agregar(self, item):\n",
        "        if item.nombre in self.items:\n",
        "            self.items[item.nombre].cantidad += item.cantidad\n",
        "        else:\n",
        "            self.items[item.nombre] = item\n",
        "\n",
        "    # Total del carrito\n",
        "    def total(self):\n",
        "        return sum(item.subtotal() for item in self.items.values())\n",
        "\n",
        "    # MÉTODOS ESPECIALES\n",
        "    def __len__(self):\n",
        "        return len(self.items)  # Número de ítems distintos\n",
        "\n",
        "    def __contains__(self, nombre):\n",
        "        return nombre in self.items\n",
        "\n",
        "    def __iter__(self):\n",
        "        return iter(self.items.values())\n",
        "\n",
        "    def __add__(self, otro):\n",
        "        nuevo = Carrito()\n",
        "        # Copiamos los ítems del primer carrito\n",
        "        for item in self.items.values():\n",
        "            nuevo.agregar(Item(item.nombre, item.precio, item.cantidad))\n",
        "        # Sumamos los ítems del otro carrito\n",
        "        for item in otro.items.values():\n",
        "            nuevo.agregar(Item(item.nombre, item.precio, item.cantidad))\n",
        "        return nuevo\n",
        "\n",
        "    def __str__(self):\n",
        "        if not self.items:\n",
        "            return \"🛒 Carrito vacío\"\n",
        "        return \"\\n\".join([str(item) for item in self.items.values()]) + f\"\\nTOTAL: ${self.total():.2f}\"\n",
        "\n",
        "\n",
        "# ---------------- EJEMPLO DE USO ----------------\n",
        "if __name__ == \"__main__\":\n",
        "    # Creamos algunos ítems\n",
        "    item1 = Item(\"Manzana\", 0.5, 4)\n",
        "    item2 = Item(\"Pan\", 1.2, 2)\n",
        "    item3 = Item(\"Leche\", 2.5, 1)\n",
        "\n",
        "    # Creamos un carrito y agregamos ítems\n",
        "    carrito1 = Carrito()\n",
        "    carrito1.agregar(item1)\n",
        "    carrito1.agregar(item2)\n",
        "\n",
        "    print(\"Carrito 1:\")\n",
        "    print(carrito1)\n",
        "    print(f\"Número de ítems distintos: {len(carrito1)}\")\n",
        "\n",
        "    # Verificamos si un ítem está en el carrito\n",
        "    print(\"\\n¿Hay Pan en el carrito?\", \"Pan\" in carrito1)\n",
        "\n",
        "    # Iterar sobre el carrito\n",
        "    print(\"\\nIterando sobre ítems del carrito:\")\n",
        "    for i in carrito1:\n",
        "        print(f\"- {i.nombre}: ${i.precio} x {i.cantidad}\")\n",
        "\n",
        "    # Creamos otro carrito y lo sumamos\n",
        "    carrito2 = Carrito()\n",
        "    carrito2.agregar(item3)\n",
        "    carrito2.agregar(Item(\"Pan\", 1.2, 1))  # Agregar Pan extra\n",
        "\n",
        "    carrito_combinado = carrito1 + carrito2\n",
        "    print(\"\\nCarrito combinado:\")\n",
        "    print(carrito_combinado)\n"
      ]
    },
    {
      "cell_type": "markdown",
      "source": [
        "Este ejercicio nos enseña cómo usar métodos especiales en Python para que nuestras clases se comporten como estructuras nativas, logrando códigos más intuitivos y flexibles. Al implementar funciones como __len__, __contains__, __iter__ y __add__, comprendemos cómo hacer que un objeto sea iterable (un iterable es cualquier objeto que puede ser recorrido y producir sus elementos uno a uno, como una lista, tupla o cadena de texto), que pueda combinarse con otro y que admita operaciones comunes como len() o el operador +. Además, refuerza la importancia de la programación orientada a objetos, la reutilización del código y la creación de soluciones que se integren de manera natural con el lenguaje."
      ],
      "metadata": {
        "id": "4PGUcDyhcCmM"
      }
    }
  ]
}